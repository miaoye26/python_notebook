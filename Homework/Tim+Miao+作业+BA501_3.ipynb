{
 "cells": [
  {
   "cell_type": "code",
   "execution_count": 3,
   "metadata": {},
   "outputs": [
    {
     "name": "stdout",
     "output_type": "stream",
     "text": [
      "[1 2 3 3 4 5]\n"
     ]
    }
   ],
   "source": [
    "# HW 1: How do you handle duplicate values in a dataset in Python?\n",
    "\n",
    "import numpy as np\n",
    "import pandas as pd\n",
    "import scipy\n",
    "\n",
    "%matplotlib inline\n",
    "import matplotlib.pyplot as plt\n",
    "\n",
    "# if in a numpy array\n",
    "import numpy as np\n",
    "a = np.array([1,2,3,3,4,5])\n",
    "print a\n"
   ]
  },
  {
   "cell_type": "code",
   "execution_count": 4,
   "metadata": {},
   "outputs": [
    {
     "name": "stdout",
     "output_type": "stream",
     "text": [
      "[1 2 3 4 5]\n"
     ]
    }
   ],
   "source": [
    "a_dedupe = np.unique(a)\n",
    "print a_dedupe\n"
   ]
  },
  {
   "cell_type": "code",
   "execution_count": 5,
   "metadata": {},
   "outputs": [
    {
     "data": {
      "text/html": [
       "<div>\n",
       "<style>\n",
       "    .dataframe thead tr:only-child th {\n",
       "        text-align: right;\n",
       "    }\n",
       "\n",
       "    .dataframe thead th {\n",
       "        text-align: left;\n",
       "    }\n",
       "\n",
       "    .dataframe tbody tr th {\n",
       "        vertical-align: top;\n",
       "    }\n",
       "</style>\n",
       "<table border=\"1\" class=\"dataframe\">\n",
       "  <thead>\n",
       "    <tr style=\"text-align: right;\">\n",
       "      <th></th>\n",
       "      <th>0</th>\n",
       "      <th>1</th>\n",
       "      <th>2</th>\n",
       "      <th>3</th>\n",
       "      <th>4</th>\n",
       "    </tr>\n",
       "  </thead>\n",
       "  <tbody>\n",
       "    <tr>\n",
       "      <th>0</th>\n",
       "      <td>1</td>\n",
       "      <td>2</td>\n",
       "      <td>3</td>\n",
       "      <td>4</td>\n",
       "      <td>5</td>\n",
       "    </tr>\n",
       "    <tr>\n",
       "      <th>2</th>\n",
       "      <td>1</td>\n",
       "      <td>2</td>\n",
       "      <td>3</td>\n",
       "      <td>4</td>\n",
       "      <td>6</td>\n",
       "    </tr>\n",
       "  </tbody>\n",
       "</table>\n",
       "</div>"
      ],
      "text/plain": [
       "   0  1  2  3  4\n",
       "0  1  2  3  4  5\n",
       "2  1  2  3  4  6"
      ]
     },
     "execution_count": 5,
     "metadata": {},
     "output_type": "execute_result"
    }
   ],
   "source": [
    "\n",
    "# if a dataframe\n",
    "b = pd.DataFrame([[1,2,3,4,5],[1,2,3,4,5],[1,2,3,4,6]])\n",
    "#b = np.array([[1,2,3,4,5],[1,2,3,4,5],[1,2,3,4,6]])\n",
    "\n",
    "\n",
    "# after checking on documentation, we know that...\n",
    "b_dedupe = b.drop_duplicates()\n",
    "b_dedupe\n",
    "\n",
    "# what about remove duplicate columns?"
   ]
  },
  {
   "cell_type": "code",
   "execution_count": 6,
   "metadata": {},
   "outputs": [
    {
     "name": "stdout",
     "output_type": "stream",
     "text": [
      "   0  1  2  3  4\n",
      "0  1  2  3  4  5\n",
      "1  1  2  3  4  5\n",
      "2  1  2  3  4  6\n"
     ]
    }
   ],
   "source": [
    "print b"
   ]
  },
  {
   "cell_type": "code",
   "execution_count": 7,
   "metadata": {},
   "outputs": [
    {
     "data": {
      "text/plain": [
       "(2, 5)"
      ]
     },
     "execution_count": 7,
     "metadata": {},
     "output_type": "execute_result"
    }
   ],
   "source": [
    "b_dedupe.shape"
   ]
  },
  {
   "cell_type": "code",
   "execution_count": 10,
   "metadata": {},
   "outputs": [
    {
     "data": {
      "text/html": [
       "<div>\n",
       "<style>\n",
       "    .dataframe thead tr:only-child th {\n",
       "        text-align: right;\n",
       "    }\n",
       "\n",
       "    .dataframe thead th {\n",
       "        text-align: left;\n",
       "    }\n",
       "\n",
       "    .dataframe tbody tr th {\n",
       "        vertical-align: top;\n",
       "    }\n",
       "</style>\n",
       "<table border=\"1\" class=\"dataframe\">\n",
       "  <thead>\n",
       "    <tr style=\"text-align: right;\">\n",
       "      <th></th>\n",
       "      <th>0</th>\n",
       "      <th>1</th>\n",
       "      <th>2</th>\n",
       "      <th>3</th>\n",
       "      <th>4</th>\n",
       "    </tr>\n",
       "  </thead>\n",
       "  <tbody>\n",
       "    <tr>\n",
       "      <th>0</th>\n",
       "      <td>1</td>\n",
       "      <td>2</td>\n",
       "      <td>3</td>\n",
       "      <td>4</td>\n",
       "      <td>5</td>\n",
       "    </tr>\n",
       "    <tr>\n",
       "      <th>2</th>\n",
       "      <td>1</td>\n",
       "      <td>2</td>\n",
       "      <td>3</td>\n",
       "      <td>4</td>\n",
       "      <td>6</td>\n",
       "    </tr>\n",
       "  </tbody>\n",
       "</table>\n",
       "</div>"
      ],
      "text/plain": [
       "   0  1  2  3  4\n",
       "0  1  2  3  4  5\n",
       "2  1  2  3  4  6"
      ]
     },
     "execution_count": 10,
     "metadata": {},
     "output_type": "execute_result"
    }
   ],
   "source": [
    "b_uniq"
   ]
  },
  {
   "cell_type": "code",
   "execution_count": 19,
   "metadata": {},
   "outputs": [
    {
     "name": "stdout",
     "output_type": "stream",
     "text": [
      "   receiver_id  requester_id        time\n",
      "0         3001          1001  2017-07-01\n",
      "1         3002          1002  2017-07-02\n",
      "2         3003          1003  2017-07-03\n",
      "3         3004          1004  2017-07-11\n",
      "   acceptor_id  requester_id        time\n",
      "0         3001          1001  2017-07-01\n",
      "1         3003          1003  2017-07-04\n"
     ]
    }
   ],
   "source": [
    "#HW2-You are given two tables - friend_request and request_accepted. \n",
    "#Friend_request contains requester_id, time and sent_to_id and request_accepted table contains time, \n",
    "#acceptor_id and requestor_id. How will you determine the overall acceptance rate of requests? \n",
    "\n",
    "\n",
    "import pandas as pd\n",
    "\n",
    "friend_request = pd.DataFrame(\n",
    "    {\"requester_id\":[1001,1002,1003,1004],\n",
    "     \"time\":[\"2017-07-01\",\"2017-07-02\",\"2017-07-03\",\"2017-07-11\"],\n",
    "     \"receiver_id\":[3001,3002,3003, 3004]}\n",
    ")\n",
    "\n",
    "request_accepted = pd.DataFrame(\n",
    "    {\"requester_id\":[1001,1003],\n",
    "     \"time\":[\"2017-07-01\",\"2017-07-04\"],\n",
    "     \"acceptor_id\":[3001,3003]}\n",
    ")\n",
    "\n",
    "print(friend_request)\n",
    "print(request_accepted)\n",
    "\n",
    "# sql\n",
    "#select\n",
    "#sum(if(t2.acceptor_id is null, 0, 1))/sum(1) as acceptance_rate,\n",
    "#avg(time_diff(t2.time, t1.time)) as time_diff\n",
    "#from friend_request t1\n",
    "#left join request_accepted t2\n",
    "#on t1.requester_id=t2.requeter_id\n",
    "#and T1.receiver_id=T2.acceptor_id;"
   ]
  },
  {
   "cell_type": "code",
   "execution_count": 20,
   "metadata": {},
   "outputs": [
    {
     "data": {
      "text/plain": [
       "0.5"
      ]
     },
     "execution_count": 20,
     "metadata": {},
     "output_type": "execute_result"
    }
   ],
   "source": [
    "a = pd.merge(friend_request,request_accepted,how=\"left\",left_on=[\"requester_id\", \"receiver_id\"], \\\n",
    "             right_on=[\"requester_id\", \"acceptor_id\"])\n",
    "len(a[\"acceptor_id\"][a.acceptor_id > 0])/(len(a[\"acceptor_id\"])*1.0)"
   ]
  },
  {
   "cell_type": "code",
   "execution_count": 26,
   "metadata": {},
   "outputs": [
    {
     "name": "stdout",
     "output_type": "stream",
     "text": [
      "4175004175004172\n",
      "4917491749174917\n",
      "346416800707698\n",
      "376416800707698\n",
      "37641680070769832112\n",
      "36641680070769\n",
      "54545641680070769\n"
     ]
    }
   ],
   "source": [
    "#HW 3- “Issuer” of a credit card are companies like Visa, Mastercard, American Express. Now we know the following rules:\n",
    "\n",
    "# CC number starts with: '4'\n",
    "# CC len : 16\n",
    "# Issuer: VISA\n",
    "\n",
    "# CC number starts with: '34', '37'\n",
    "# CC len : 15\n",
    "# Issuer : AMEX\n",
    "\n",
    "# CC number starts with: '36'\n",
    "# CC len : 14\n",
    "# Issuer : Diners Club\n",
    "\n",
    "# Credit card number starts with\n",
    "# '4026', '417500', '4405', '4508', '4844',\n",
    "# '4913', '4917'\n",
    "# CC len : 16\n",
    "# Issuer : VISAELECTRON\n",
    "\n",
    "#Now write Python scripts to identify the issuer of the following credit card numbers:\n",
    "\n",
    "#'4175004175004172' \n",
    "#'4917491749174917'\n",
    "#'346416800707698'\n",
    "#'376416800707698'\n",
    "#'37641680070769832112'\n",
    "#'36641680070769'\n",
    "#'54545641680070769’ \n",
    "\n",
    "CreditCards = ['4175004175004172',\n",
    "'4917491749174917',\n",
    "'346416800707698' ,\n",
    "'376416800707698',\n",
    "'37641680070769832112',\n",
    "'36641680070769',\n",
    "'54545641680070769' ]\n",
    "\n",
    "for card in CreditCards:\n",
    "    print (card)"
   ]
  },
  {
   "cell_type": "code",
   "execution_count": 71,
   "metadata": {},
   "outputs": [
    {
     "name": "stdout",
     "output_type": "stream",
     "text": [
      "4175004175004172\n",
      "is VISA\n",
      "4917491749174917\n",
      "is VISA\n"
     ]
    }
   ],
   "source": [
    "\n",
    "for card in CreditCards:\n",
    "    #print 'length: '\n",
    "    #print (len(card))\n",
    "\n",
    "    if card[0] == '4' and len(card) ==16:\n",
    "        print (card) \n",
    "        print \"is VISA\"\n"
   ]
  },
  {
   "cell_type": "code",
   "execution_count": null,
   "metadata": {
    "collapsed": true
   },
   "outputs": [],
   "source": []
  }
 ],
 "metadata": {
  "kernelspec": {
   "display_name": "Python 2",
   "language": "python",
   "name": "python2"
  },
  "language_info": {
   "codemirror_mode": {
    "name": "ipython",
    "version": 2
   },
   "file_extension": ".py",
   "mimetype": "text/x-python",
   "name": "python",
   "nbconvert_exporter": "python",
   "pygments_lexer": "ipython2",
   "version": "2.7.14"
  }
 },
 "nbformat": 4,
 "nbformat_minor": 2
}
